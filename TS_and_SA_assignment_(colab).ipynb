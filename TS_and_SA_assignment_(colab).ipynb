{
  "nbformat": 4,
  "nbformat_minor": 0,
  "metadata": {
    "orig_nbformat": 4,
    "language_info": {
      "name": "python",
      "version": "3.9.6",
      "mimetype": "text/x-python",
      "codemirror_mode": {
        "name": "ipython",
        "version": 3
      },
      "pygments_lexer": "ipython3",
      "nbconvert_exporter": "python",
      "file_extension": ".py"
    },
    "kernelspec": {
      "name": "python3",
      "display_name": "Python 3.9.6 64-bit"
    },
    "interpreter": {
      "hash": "ac59ebe37160ed0dfa835113d9b8498d9f09ceb179beaac4002f036b9467c963"
    },
    "colab": {
      "name": "TS_and_SA_assignment_(colab).ipynb",
      "provenance": [],
      "collapsed_sections": [
        "V3gDZ7DhGUpD"
      ]
    }
  },
  "cells": [
    {
      "cell_type": "markdown",
      "metadata": {
        "id": "V3gDZ7DhGUpD"
      },
      "source": [
        "##### Import"
      ]
    },
    {
      "cell_type": "code",
      "metadata": {
        "id": "rBeRYlq0B5uF"
      },
      "source": [
        "import numpy as np\n",
        "import pandas as pd\n",
        "import os\n",
        "import matplotlib.pyplot as plt\n",
        "import tensorflow as tf\n",
        "import keras\n",
        "\n",
        "from sklearn.model_selection import train_test_split\n",
        "from sklearn.preprocessing import StandardScaler, OneHotEncoder\n",
        "from sklearn.metrics import accuracy_score, mean_absolute_error\n",
        "\n",
        "from keras.models import Sequential\n",
        "from tensorflow.keras.optimizers import Adam\n",
        "from keras.layers import Dense, Embedding, LSTM, Dropout \n"
      ],
      "execution_count": 1,
      "outputs": []
    },
    {
      "cell_type": "markdown",
      "metadata": {
        "id": "B1P_LUPkB5uP"
      },
      "source": [
        "---\n",
        "# Time Series Analysis on Avocado Data\n"
      ]
    },
    {
      "cell_type": "markdown",
      "metadata": {
        "id": "oS_uNrcyF35b"
      },
      "source": [
        "In this project, I shall be performing analysis on Avocado price data, using three variations of a LSTM neural network.\n",
        "\n",
        "*   Model 1: Single LSTM layer\n",
        "*   Model 2: Two LSTM layers\n",
        "*   Model 3: Three LSTM layers\n",
        "\n",
        "The table below represents weekly 2018 retail scan data for National retail volume (units) and price. Retail scan data comes directly from retailers’ cash registers based on actual retail sales of Hass avocados. Starting in 2013, the table below reflects an expanded, multi-outlet retail data set. Multi-outlet reporting includes an aggregation of the following channels: grocery, mass, club, drug, dollar, and military. The Average Price (of avocados) in the table reflects a per unit (per avocado) cost, even when multiple units (avocados) are sold in bags. The Product Lookup codes (PLU’s) in the table are only for Hass avocados. Other varieties of avocados (e.g. greenskins) are not included in this table.\n",
        "\n",
        "Some relevant columns in the dataset:\n",
        "\n",
        "*   Date - The date of the observation\n",
        "*   AveragePrice - the average price of a single avocado\n",
        "*   type - conventional or organic\n",
        "*   year - the year\n",
        "*   Region - the city or region of the observation\n",
        "*   Total Volume - Total number of avocados sold\n",
        "*   4046 - Total number of avocados with PLU 4046 sold\n",
        "*   4225 - Total number of avocados with PLU 4225 sold\n",
        "*   4770 - Total number of avocados with PLU 4770 sold\n",
        "\n",
        "The dataset is available at; https://www.kaggle.com/neuromusic/avocado-prices "
      ]
    },
    {
      "cell_type": "code",
      "metadata": {
        "id": "V7uMxFQrB5uS",
        "colab": {
          "base_uri": "https://localhost:8080/",
          "height": 328
        },
        "outputId": "8eb0b9ff-f8c1-4363-ca26-5b0505cf3794"
      },
      "source": [
        "#import CSV to dataframe\n",
        "data = pd.read_csv('/content/avocado.csv', index_col=None, header=0)\n",
        "data.head()"
      ],
      "execution_count": 2,
      "outputs": [
        {
          "output_type": "execute_result",
          "data": {
            "text/html": [
              "<div>\n",
              "<style scoped>\n",
              "    .dataframe tbody tr th:only-of-type {\n",
              "        vertical-align: middle;\n",
              "    }\n",
              "\n",
              "    .dataframe tbody tr th {\n",
              "        vertical-align: top;\n",
              "    }\n",
              "\n",
              "    .dataframe thead th {\n",
              "        text-align: right;\n",
              "    }\n",
              "</style>\n",
              "<table border=\"1\" class=\"dataframe\">\n",
              "  <thead>\n",
              "    <tr style=\"text-align: right;\">\n",
              "      <th></th>\n",
              "      <th>Unnamed: 0</th>\n",
              "      <th>Date</th>\n",
              "      <th>AveragePrice</th>\n",
              "      <th>Total Volume</th>\n",
              "      <th>4046</th>\n",
              "      <th>4225</th>\n",
              "      <th>4770</th>\n",
              "      <th>Total Bags</th>\n",
              "      <th>Small Bags</th>\n",
              "      <th>Large Bags</th>\n",
              "      <th>XLarge Bags</th>\n",
              "      <th>type</th>\n",
              "      <th>year</th>\n",
              "      <th>region</th>\n",
              "    </tr>\n",
              "  </thead>\n",
              "  <tbody>\n",
              "    <tr>\n",
              "      <th>0</th>\n",
              "      <td>0</td>\n",
              "      <td>2015-12-27</td>\n",
              "      <td>1.33</td>\n",
              "      <td>64236.62</td>\n",
              "      <td>1036.74</td>\n",
              "      <td>54454.85</td>\n",
              "      <td>48.16</td>\n",
              "      <td>8696.87</td>\n",
              "      <td>8603.62</td>\n",
              "      <td>93.25</td>\n",
              "      <td>0.0</td>\n",
              "      <td>conventional</td>\n",
              "      <td>2015</td>\n",
              "      <td>Albany</td>\n",
              "    </tr>\n",
              "    <tr>\n",
              "      <th>1</th>\n",
              "      <td>1</td>\n",
              "      <td>2015-12-20</td>\n",
              "      <td>1.35</td>\n",
              "      <td>54876.98</td>\n",
              "      <td>674.28</td>\n",
              "      <td>44638.81</td>\n",
              "      <td>58.33</td>\n",
              "      <td>9505.56</td>\n",
              "      <td>9408.07</td>\n",
              "      <td>97.49</td>\n",
              "      <td>0.0</td>\n",
              "      <td>conventional</td>\n",
              "      <td>2015</td>\n",
              "      <td>Albany</td>\n",
              "    </tr>\n",
              "    <tr>\n",
              "      <th>2</th>\n",
              "      <td>2</td>\n",
              "      <td>2015-12-13</td>\n",
              "      <td>0.93</td>\n",
              "      <td>118220.22</td>\n",
              "      <td>794.70</td>\n",
              "      <td>109149.67</td>\n",
              "      <td>130.50</td>\n",
              "      <td>8145.35</td>\n",
              "      <td>8042.21</td>\n",
              "      <td>103.14</td>\n",
              "      <td>0.0</td>\n",
              "      <td>conventional</td>\n",
              "      <td>2015</td>\n",
              "      <td>Albany</td>\n",
              "    </tr>\n",
              "    <tr>\n",
              "      <th>3</th>\n",
              "      <td>3</td>\n",
              "      <td>2015-12-06</td>\n",
              "      <td>1.08</td>\n",
              "      <td>78992.15</td>\n",
              "      <td>1132.00</td>\n",
              "      <td>71976.41</td>\n",
              "      <td>72.58</td>\n",
              "      <td>5811.16</td>\n",
              "      <td>5677.40</td>\n",
              "      <td>133.76</td>\n",
              "      <td>0.0</td>\n",
              "      <td>conventional</td>\n",
              "      <td>2015</td>\n",
              "      <td>Albany</td>\n",
              "    </tr>\n",
              "    <tr>\n",
              "      <th>4</th>\n",
              "      <td>4</td>\n",
              "      <td>2015-11-29</td>\n",
              "      <td>1.28</td>\n",
              "      <td>51039.60</td>\n",
              "      <td>941.48</td>\n",
              "      <td>43838.39</td>\n",
              "      <td>75.78</td>\n",
              "      <td>6183.95</td>\n",
              "      <td>5986.26</td>\n",
              "      <td>197.69</td>\n",
              "      <td>0.0</td>\n",
              "      <td>conventional</td>\n",
              "      <td>2015</td>\n",
              "      <td>Albany</td>\n",
              "    </tr>\n",
              "  </tbody>\n",
              "</table>\n",
              "</div>"
            ],
            "text/plain": [
              "   Unnamed: 0        Date  AveragePrice  ...          type  year  region\n",
              "0           0  2015-12-27          1.33  ...  conventional  2015  Albany\n",
              "1           1  2015-12-20          1.35  ...  conventional  2015  Albany\n",
              "2           2  2015-12-13          0.93  ...  conventional  2015  Albany\n",
              "3           3  2015-12-06          1.08  ...  conventional  2015  Albany\n",
              "4           4  2015-11-29          1.28  ...  conventional  2015  Albany\n",
              "\n",
              "[5 rows x 14 columns]"
            ]
          },
          "metadata": {},
          "execution_count": 2
        }
      ]
    },
    {
      "cell_type": "markdown",
      "metadata": {
        "id": "i_rg-ZpYeT3d"
      },
      "source": [
        "We seem to have one redundent columns called \"unnamed\" (possibly used as an ID field), but a mixture of Int, Float and Object types. A break down of which can be seen below."
      ]
    },
    {
      "cell_type": "code",
      "metadata": {
        "colab": {
          "base_uri": "https://localhost:8080/"
        },
        "id": "d-ikVfaLayE6",
        "outputId": "aa5cc383-0376-4f4c-c78b-1024fc3c8c90"
      },
      "source": [
        "data.info()"
      ],
      "execution_count": 3,
      "outputs": [
        {
          "output_type": "stream",
          "name": "stdout",
          "text": [
            "<class 'pandas.core.frame.DataFrame'>\n",
            "RangeIndex: 18249 entries, 0 to 18248\n",
            "Data columns (total 14 columns):\n",
            " #   Column        Non-Null Count  Dtype  \n",
            "---  ------        --------------  -----  \n",
            " 0   Unnamed: 0    18249 non-null  int64  \n",
            " 1   Date          18249 non-null  object \n",
            " 2   AveragePrice  18249 non-null  float64\n",
            " 3   Total Volume  18249 non-null  float64\n",
            " 4   4046          18249 non-null  float64\n",
            " 5   4225          18249 non-null  float64\n",
            " 6   4770          18249 non-null  float64\n",
            " 7   Total Bags    18249 non-null  float64\n",
            " 8   Small Bags    18249 non-null  float64\n",
            " 9   Large Bags    18249 non-null  float64\n",
            " 10  XLarge Bags   18249 non-null  float64\n",
            " 11  type          18249 non-null  object \n",
            " 12  year          18249 non-null  int64  \n",
            " 13  region        18249 non-null  object \n",
            "dtypes: float64(9), int64(2), object(3)\n",
            "memory usage: 1.9+ MB\n"
          ]
        }
      ]
    },
    {
      "cell_type": "markdown",
      "metadata": {
        "id": "4LpAazRXaF75"
      },
      "source": [
        "Before working with the data, lets check if it needs to be cleaned. We shall do this by Checking for null rows or for duplicate values.\n",
        "\n",
        "(Spoiler: no missing values, no duplicate entries)\n",
        "\n"
      ]
    },
    {
      "cell_type": "code",
      "metadata": {
        "colab": {
          "base_uri": "https://localhost:8080/"
        },
        "id": "gW-dO7DOaG7S",
        "outputId": "880c7a1c-4733-45d7-f0ef-7c0d74c9489d"
      },
      "source": [
        "#Count missing values in each column.\n",
        "data.isna().sum()"
      ],
      "execution_count": 4,
      "outputs": [
        {
          "output_type": "execute_result",
          "data": {
            "text/plain": [
              "Unnamed: 0      0\n",
              "Date            0\n",
              "AveragePrice    0\n",
              "Total Volume    0\n",
              "4046            0\n",
              "4225            0\n",
              "4770            0\n",
              "Total Bags      0\n",
              "Small Bags      0\n",
              "Large Bags      0\n",
              "XLarge Bags     0\n",
              "type            0\n",
              "year            0\n",
              "region          0\n",
              "dtype: int64"
            ]
          },
          "metadata": {},
          "execution_count": 4
        }
      ]
    },
    {
      "cell_type": "code",
      "metadata": {
        "colab": {
          "base_uri": "https://localhost:8080/",
          "height": 86
        },
        "id": "41ZF8GP7ak0C",
        "outputId": "b37fb844-89f5-4434-fdf5-9edda8a86b86"
      },
      "source": [
        "#duplicate values check\n",
        "data.duplicated().sum()\n",
        "data.loc[data.duplicated(keep=False),:]"
      ],
      "execution_count": 5,
      "outputs": [
        {
          "output_type": "execute_result",
          "data": {
            "text/html": [
              "<div>\n",
              "<style scoped>\n",
              "    .dataframe tbody tr th:only-of-type {\n",
              "        vertical-align: middle;\n",
              "    }\n",
              "\n",
              "    .dataframe tbody tr th {\n",
              "        vertical-align: top;\n",
              "    }\n",
              "\n",
              "    .dataframe thead th {\n",
              "        text-align: right;\n",
              "    }\n",
              "</style>\n",
              "<table border=\"1\" class=\"dataframe\">\n",
              "  <thead>\n",
              "    <tr style=\"text-align: right;\">\n",
              "      <th></th>\n",
              "      <th>Unnamed: 0</th>\n",
              "      <th>Date</th>\n",
              "      <th>AveragePrice</th>\n",
              "      <th>Total Volume</th>\n",
              "      <th>4046</th>\n",
              "      <th>4225</th>\n",
              "      <th>4770</th>\n",
              "      <th>Total Bags</th>\n",
              "      <th>Small Bags</th>\n",
              "      <th>Large Bags</th>\n",
              "      <th>XLarge Bags</th>\n",
              "      <th>type</th>\n",
              "      <th>year</th>\n",
              "      <th>region</th>\n",
              "    </tr>\n",
              "  </thead>\n",
              "  <tbody>\n",
              "  </tbody>\n",
              "</table>\n",
              "</div>"
            ],
            "text/plain": [
              "Empty DataFrame\n",
              "Columns: [Unnamed: 0, Date, AveragePrice, Total Volume, 4046, 4225, 4770, Total Bags, Small Bags, Large Bags, XLarge Bags, type, year, region]\n",
              "Index: []"
            ]
          },
          "metadata": {},
          "execution_count": 5
        }
      ]
    },
    {
      "cell_type": "markdown",
      "metadata": {
        "id": "0m_3EVvPOxYy"
      },
      "source": [
        "Since we are only focusing on Average Price, we can drop all the other columns, I have reffered to below project for the train/test splitting process, and use of the function \"make_feed_dicts\"; https://www.kaggle.com/hastok/lstm-avocado-price-prediction"
      ]
    },
    {
      "cell_type": "code",
      "metadata": {
        "id": "hXrhpWv_ZeI5"
      },
      "source": [
        "data = data.drop(['Unnamed: 0', 'Date', 'Total Volume', '4046', '4225', '4770', 'Total Bags', 'Small Bags', 'Large Bags', 'XLarge Bags', 'type', 'year', 'region'],1)"
      ],
      "execution_count": 7,
      "outputs": []
    },
    {
      "cell_type": "code",
      "metadata": {
        "id": "UmyEsHyzI6Xc"
      },
      "source": [
        "#scale dataet\n",
        "scaler = StandardScaler()\n",
        "data = scaler.fit_transform(data)"
      ],
      "execution_count": 8,
      "outputs": []
    },
    {
      "cell_type": "code",
      "metadata": {
        "id": "EzArqbsuSi0t"
      },
      "source": [
        "#function defined for train/test split\n",
        "#90% training, 10% test\n",
        "def make_feed_dicts(data,hist_len):\n",
        "    xs,ys = [],[]\n",
        "    for i in range(len(data)-hist_len-1):\n",
        "        ys.append(data[i+hist_len])\n",
        "        xs.append(data[i:i+hist_len])\n",
        "    j = int(len(data)*0.9)\n",
        "    return np.array(xs[:j]),np.array(xs[j:]),np.array(ys[:j]),np.array(ys[j:])"
      ],
      "execution_count": 9,
      "outputs": []
    },
    {
      "cell_type": "code",
      "metadata": {
        "colab": {
          "base_uri": "https://localhost:8080/"
        },
        "id": "Q0VSr3DFYxxK",
        "outputId": "c6353ce8-b781-4768-d168-b3e76b3f11a0"
      },
      "source": [
        "scale_min = min(data)\n",
        "scale_range = max(data) - scale_min\n",
        "\n",
        "hist_len = 10\n",
        "x_train, x_test, y_train, y_test = make_feed_dicts(data, hist_len)\n",
        "x_test.shape"
      ],
      "execution_count": 10,
      "outputs": [
        {
          "output_type": "execute_result",
          "data": {
            "text/plain": [
              "(1814, 10, 1)"
            ]
          },
          "metadata": {},
          "execution_count": 10
        }
      ]
    },
    {
      "cell_type": "markdown",
      "metadata": {
        "id": "Z00ayVdrhjdI"
      },
      "source": [
        "Looking at our x_test dataframe for an example, we have a single dimension frame, with 1814 values in a shape of 10.\n",
        "\n",
        "Let's feed our three models with our test/train data split. Where each model has an added LSTM layer to compare and evaluate if adding more layers increased the accuracy of our prediciton (while maintaining a low loss). In model two and model three, I have introduced drop out layers between the additional LSTM layers."
      ]
    },
    {
      "cell_type": "markdown",
      "metadata": {
        "id": "V2igpFWmLgjZ"
      },
      "source": [
        "---\n",
        "# Model One: Single LSTM"
      ]
    },
    {
      "cell_type": "code",
      "metadata": {
        "id": "KK6gqVzChxS2"
      },
      "source": [
        "# Define the Keras model\n",
        "model1 = Sequential()\n",
        "\n",
        "model1.add(LSTM(256, input_shape=(hist_len, 1)))\n",
        "\n",
        "model1.add(Dense(5, activation='sigmoid'))\n",
        "model1.add(Dense(1, activation='sigmoid'))\n",
        "\n",
        "model1.compile(loss='mean_squared_error', optimizer='adam')"
      ],
      "execution_count": null,
      "outputs": []
    },
    {
      "cell_type": "code",
      "metadata": {
        "id": "hT5XonAXhbLD",
        "colab": {
          "base_uri": "https://localhost:8080/"
        },
        "outputId": "a593b84f-ffa1-4312-a4fc-0ac4b01a1a95"
      },
      "source": [
        "# Give a summary\n",
        "model1.summary()"
      ],
      "execution_count": null,
      "outputs": [
        {
          "output_type": "stream",
          "name": "stdout",
          "text": [
            "Model: \"sequential_2\"\n",
            "_________________________________________________________________\n",
            "Layer (type)                 Output Shape              Param #   \n",
            "=================================================================\n",
            "lstm_1 (LSTM)                (None, 256)               264192    \n",
            "_________________________________________________________________\n",
            "dense_2 (Dense)              (None, 5)                 1285      \n",
            "_________________________________________________________________\n",
            "dense_3 (Dense)              (None, 1)                 6         \n",
            "=================================================================\n",
            "Total params: 265,483\n",
            "Trainable params: 265,483\n",
            "Non-trainable params: 0\n",
            "_________________________________________________________________\n"
          ]
        }
      ]
    },
    {
      "cell_type": "code",
      "metadata": {
        "colab": {
          "base_uri": "https://localhost:8080/"
        },
        "id": "uYKt0fKIc9TJ",
        "outputId": "55289e82-c56b-4d6e-a24d-b3297005cc06"
      },
      "source": [
        "history1 = model1.fit(x_train, y_train, epochs=10, validation_data=(x_test, y_test),shuffle=False)"
      ],
      "execution_count": null,
      "outputs": [
        {
          "output_type": "stream",
          "name": "stdout",
          "text": [
            "Epoch 1/10\n",
            "514/514 [==============================] - 19s 35ms/step - loss: 0.8053 - val_loss: 0.7972\n",
            "Epoch 2/10\n",
            "514/514 [==============================] - 17s 34ms/step - loss: 0.7092 - val_loss: 0.7138\n",
            "Epoch 3/10\n",
            "514/514 [==============================] - 17s 34ms/step - loss: 0.6659 - val_loss: 0.6754\n",
            "Epoch 4/10\n",
            "514/514 [==============================] - 17s 34ms/step - loss: 0.6445 - val_loss: 0.6521\n",
            "Epoch 5/10\n",
            "514/514 [==============================] - 18s 34ms/step - loss: 0.6333 - val_loss: 0.6384\n",
            "Epoch 6/10\n",
            "514/514 [==============================] - 18s 34ms/step - loss: 0.6266 - val_loss: 0.6291\n",
            "Epoch 7/10\n",
            "514/514 [==============================] - 17s 34ms/step - loss: 0.6219 - val_loss: 0.6220\n",
            "Epoch 8/10\n",
            "514/514 [==============================] - 17s 34ms/step - loss: 0.6185 - val_loss: 0.6190\n",
            "Epoch 9/10\n",
            "514/514 [==============================] - 17s 34ms/step - loss: 0.6155 - val_loss: 0.6114\n",
            "Epoch 10/10\n",
            "514/514 [==============================] - 17s 33ms/step - loss: 0.6138 - val_loss: 0.6074\n"
          ]
        }
      ]
    },
    {
      "cell_type": "code",
      "metadata": {
        "colab": {
          "base_uri": "https://localhost:8080/",
          "height": 283
        },
        "id": "dXoiuh8mhWyv",
        "outputId": "01dff588-49d3-4845-ed6b-a126f8c9a043"
      },
      "source": [
        "plt.plot(history1.history['loss'])\n",
        "plt.plot(history1.history['val_loss'])"
      ],
      "execution_count": null,
      "outputs": [
        {
          "output_type": "execute_result",
          "data": {
            "text/plain": [
              "[<matplotlib.lines.Line2D at 0x7f38a97795d0>]"
            ]
          },
          "metadata": {},
          "execution_count": 41
        },
        {
          "output_type": "display_data",
          "data": {
            "image/png": "[encoded data removed]",
            "text/plain": [
              "<Figure size 432x288 with 1 Axes>"
            ]
          },
          "metadata": {
            "needs_background": "light"
          }
        }
      ]
    },
    {
      "cell_type": "markdown",
      "metadata": {
        "id": "12K3MO0GyVii"
      },
      "source": [
        "Using a single LSTM layer produeces low losses, well relaively, and the curve which represents this is smooth. Can we reduce or improve the loss curve?!\n",
        "\n",
        "Below represents the accuracy of of our predictions against our actual values, they seem to show relative consitancy and apear to somewhat represent the actual values. However, the predicted values do not as closely follow the magnitude of the actual values, the direction does seem to be consistant.\n",
        "\n"
      ]
    },
    {
      "cell_type": "code",
      "metadata": {
        "colab": {
          "base_uri": "https://localhost:8080/",
          "height": 283
        },
        "id": "uOGuxCe_hfhP",
        "outputId": "933f9a89-03d8-4725-de4c-1e9f50b2366e"
      },
      "source": [
        "predicted_x = model1.predict(x_test[:250])\n",
        "plt.plot(predicted_x*scale_range+scale_min)\n",
        "plt.plot(y_test[:250].reshape(-1,1)*scale_range+scale_min)"
      ],
      "execution_count": null,
      "outputs": [
        {
          "output_type": "execute_result",
          "data": {
            "text/plain": [
              "[<matplotlib.lines.Line2D at 0x7f38a5747650>]"
            ]
          },
          "metadata": {},
          "execution_count": 45
        },
        {
          "output_type": "display_data",
          "data": {
            "image/png": "[encoded data removed]",
            "text/plain": [
              "<Figure size 432x288 with 1 Axes>"
            ]
          },
          "metadata": {
            "needs_background": "light"
          }
        }
      ]
    },
    {
      "cell_type": "markdown",
      "metadata": {
        "id": "ZSU6Sw5wLgs8"
      },
      "source": [
        "---\n",
        "# Model Two: Two LSTMs"
      ]
    },
    {
      "cell_type": "code",
      "metadata": {
        "id": "whHk1gIpCU2z"
      },
      "source": [
        "# Define the Keras model\n",
        "model2 = Sequential()\n",
        "\n",
        "model2.add(LSTM(256, input_shape=(hist_len, 1), return_sequences=True))\n",
        "model2.add(Dropout(0.1))\n",
        "\n",
        "model2.add(LSTM(256, input_shape=(hist_len, 1)))\n",
        "model2.add(Dropout(0.1))\n",
        "\n",
        "model2.add(Dense(5, activation='sigmoid'))\n",
        "model2.add(Dense(1, activation='sigmoid'))\n",
        "\n",
        "model2.compile(loss='mean_squared_error', optimizer='adam')"
      ],
      "execution_count": 11,
      "outputs": []
    },
    {
      "cell_type": "code",
      "metadata": {
        "colab": {
          "base_uri": "https://localhost:8080/"
        },
        "id": "M0COilggipdD",
        "outputId": "554f0ed0-345d-4c63-8623-d5ed4b3f32ec"
      },
      "source": [
        "# Give a summary\n",
        "model2.summary()"
      ],
      "execution_count": 12,
      "outputs": [
        {
          "output_type": "stream",
          "name": "stdout",
          "text": [
            "Model: \"sequential\"\n",
            "_________________________________________________________________\n",
            "Layer (type)                 Output Shape              Param #   \n",
            "=================================================================\n",
            "lstm (LSTM)                  (None, 10, 256)           264192    \n",
            "_________________________________________________________________\n",
            "dropout (Dropout)            (None, 10, 256)           0         \n",
            "_________________________________________________________________\n",
            "lstm_1 (LSTM)                (None, 256)               525312    \n",
            "_________________________________________________________________\n",
            "dropout_1 (Dropout)          (None, 256)               0         \n",
            "_________________________________________________________________\n",
            "dense (Dense)                (None, 5)                 1285      \n",
            "_________________________________________________________________\n",
            "dense_1 (Dense)              (None, 1)                 6         \n",
            "=================================================================\n",
            "Total params: 790,795\n",
            "Trainable params: 790,795\n",
            "Non-trainable params: 0\n",
            "_________________________________________________________________\n"
          ]
        }
      ]
    },
    {
      "cell_type": "code",
      "metadata": {
        "colab": {
          "base_uri": "https://localhost:8080/"
        },
        "id": "asblg1Dsiwqk",
        "outputId": "593a8067-a49f-4e2a-82ba-325da8b9b506"
      },
      "source": [
        "history2 = model2.fit(x_train, y_train, epochs=15, validation_data=(x_test, y_test),shuffle=False)"
      ],
      "execution_count": 13,
      "outputs": [
        {
          "output_type": "stream",
          "name": "stdout",
          "text": [
            "Epoch 1/15\n",
            "514/514 [==============================] - 54s 98ms/step - loss: 0.8381 - val_loss: 0.9726\n",
            "Epoch 2/15\n",
            "514/514 [==============================] - 49s 95ms/step - loss: 0.8561 - val_loss: 0.9585\n",
            "Epoch 3/15\n",
            "514/514 [==============================] - 50s 98ms/step - loss: 0.8395 - val_loss: 0.9643\n",
            "Epoch 4/15\n",
            "514/514 [==============================] - 49s 96ms/step - loss: 0.8481 - val_loss: 0.9605\n",
            "Epoch 5/15\n",
            "514/514 [==============================] - 49s 96ms/step - loss: 0.8523 - val_loss: 0.9626\n",
            "Epoch 6/15\n",
            "514/514 [==============================] - 50s 97ms/step - loss: 0.9587 - val_loss: 1.4010\n",
            "Epoch 7/15\n",
            "514/514 [==============================] - 49s 95ms/step - loss: 0.7829 - val_loss: 0.9445\n",
            "Epoch 8/15\n",
            "514/514 [==============================] - 49s 96ms/step - loss: 0.7702 - val_loss: 0.9629\n",
            "Epoch 9/15\n",
            "514/514 [==============================] - 50s 98ms/step - loss: 0.7570 - val_loss: 0.9281\n",
            "Epoch 10/15\n",
            "514/514 [==============================] - 49s 96ms/step - loss: 0.7423 - val_loss: 0.8799\n",
            "Epoch 11/15\n",
            "514/514 [==============================] - 49s 96ms/step - loss: 0.7166 - val_loss: 0.8424\n",
            "Epoch 12/15\n",
            "514/514 [==============================] - 51s 98ms/step - loss: 0.6936 - val_loss: 0.7679\n",
            "Epoch 13/15\n",
            "514/514 [==============================] - 50s 97ms/step - loss: 0.6685 - val_loss: 0.6915\n",
            "Epoch 14/15\n",
            "514/514 [==============================] - 49s 95ms/step - loss: 0.6305 - val_loss: 0.6614\n",
            "Epoch 15/15\n",
            "514/514 [==============================] - 49s 96ms/step - loss: 0.6237 - val_loss: 0.6470\n"
          ]
        }
      ]
    },
    {
      "cell_type": "code",
      "metadata": {
        "colab": {
          "base_uri": "https://localhost:8080/",
          "height": 283
        },
        "id": "fIeDOmLRi2hD",
        "outputId": "e2410cb9-a5e1-4966-de80-30713197e42b"
      },
      "source": [
        "plt.plot(history2.history['loss'])\n",
        "plt.plot(history2.history['val_loss'])"
      ],
      "execution_count": 14,
      "outputs": [
        {
          "output_type": "execute_result",
          "data": {
            "text/plain": [
              "[<matplotlib.lines.Line2D at 0x7f79a7637490>]"
            ]
          },
          "metadata": {},
          "execution_count": 14
        },
        {
          "output_type": "display_data",
          "data": {
            "image/png": "[encoded data removed]",
            "text/plain": [
              "<Figure size 432x288 with 1 Axes>"
            ]
          },
          "metadata": {
            "needs_background": "light"
          }
        }
      ]
    },
    {
      "cell_type": "markdown",
      "metadata": {
        "id": "DvtHBSjFzCtj"
      },
      "source": [
        "For this model I have changed the epochs and increased them to 15 since initial testing with 10 Epochs hadn't created much visible change in comparison to model one. When the Epochs were kept at 10, the loss and valdiation curve were smoothend. With an increase to 15 we can we a sharp upspike on the 5th Epoch but normalises by the 6th. However, the final loss value is no different to model one or setting Epochs to 10.\n",
        "\n",
        "Apart from the smoothend loss and loss validation curves, there is not much increase in accuracy which is substantially different than the use of a single layer LSTM. Below represents the accuracy of of our predictions against our actual values. Again, the below graph is very similar to model one, the predicted values do not as closesly follow the magnitude of the actual values, the direction does seem to be consistant."
      ]
    },
    {
      "cell_type": "code",
      "metadata": {
        "colab": {
          "base_uri": "https://localhost:8080/",
          "height": 283
        },
        "id": "5gj4-s3Gi4-y",
        "outputId": "490bc885-bace-4233-e8db-248ce3598eda"
      },
      "source": [
        "predicted_x = model2.predict(x_test[:250])\n",
        "plt.plot(predicted_x*scale_range+scale_min)\n",
        "plt.plot(y_test[:250].reshape(-1,1)*scale_range+scale_min)"
      ],
      "execution_count": 15,
      "outputs": [
        {
          "output_type": "execute_result",
          "data": {
            "text/plain": [
              "[<matplotlib.lines.Line2D at 0x7f79a6f19150>]"
            ]
          },
          "metadata": {},
          "execution_count": 15
        },
        {
          "output_type": "display_data",
          "data": {
            "image/png": "[encoded data removed]",
            "text/plain": [
              "<Figure size 432x288 with 1 Axes>"
            ]
          },
          "metadata": {
            "needs_background": "light"
          }
        }
      ]
    },
    {
      "cell_type": "markdown",
      "metadata": {
        "id": "X-lQwAleLgxw"
      },
      "source": [
        "---\n",
        "# Model Three: Three LSTMs"
      ]
    },
    {
      "cell_type": "code",
      "metadata": {
        "id": "MzWsTIIwiN1z"
      },
      "source": [
        "# Define the Keras model\n",
        "model3 = Sequential()\n",
        "\n",
        "model3.add(LSTM(256, input_shape=(hist_len, 1), return_sequences=True))\n",
        "model3.add(Dropout(0.1))\n",
        "\n",
        "model3.add(LSTM(256, input_shape=(hist_len, 1), return_sequences=True))\n",
        "model3.add(Dropout(0.1))\n",
        "\n",
        "model3.add(LSTM(256, input_shape=(hist_len, 1)))\n",
        "model3.add(Dropout(0.1))\n",
        "\n",
        "model3.add(Dense(5, activation='sigmoid'))\n",
        "model3.add(Dense(1, activation='sigmoid'))\n",
        "\n",
        "model3.compile(loss='mean_squared_error', optimizer='adam')"
      ],
      "execution_count": 16,
      "outputs": []
    },
    {
      "cell_type": "code",
      "metadata": {
        "colab": {
          "base_uri": "https://localhost:8080/"
        },
        "id": "SNxz8O_riqvt",
        "outputId": "e28e96bf-7482-4377-a021-c8d6309f963b"
      },
      "source": [
        "# Give a summary\n",
        "model3.summary()"
      ],
      "execution_count": 17,
      "outputs": [
        {
          "output_type": "stream",
          "name": "stdout",
          "text": [
            "Model: \"sequential_1\"\n",
            "_________________________________________________________________\n",
            "Layer (type)                 Output Shape              Param #   \n",
            "=================================================================\n",
            "lstm_2 (LSTM)                (None, 10, 256)           264192    \n",
            "_________________________________________________________________\n",
            "dropout_2 (Dropout)          (None, 10, 256)           0         \n",
            "_________________________________________________________________\n",
            "lstm_3 (LSTM)                (None, 10, 256)           525312    \n",
            "_________________________________________________________________\n",
            "dropout_3 (Dropout)          (None, 10, 256)           0         \n",
            "_________________________________________________________________\n",
            "lstm_4 (LSTM)                (None, 256)               525312    \n",
            "_________________________________________________________________\n",
            "dropout_4 (Dropout)          (None, 256)               0         \n",
            "_________________________________________________________________\n",
            "dense_2 (Dense)              (None, 5)                 1285      \n",
            "_________________________________________________________________\n",
            "dense_3 (Dense)              (None, 1)                 6         \n",
            "=================================================================\n",
            "Total params: 1,316,107\n",
            "Trainable params: 1,316,107\n",
            "Non-trainable params: 0\n",
            "_________________________________________________________________\n"
          ]
        }
      ]
    },
    {
      "cell_type": "code",
      "metadata": {
        "colab": {
          "base_uri": "https://localhost:8080/"
        },
        "id": "XZuW98EJiyuq",
        "outputId": "5f8fa94a-2ac9-408b-b70e-a8e6df018ed4"
      },
      "source": [
        "history3 = model3.fit(x_train, y_train, epochs=15, validation_data=(x_test, y_test),shuffle=False)"
      ],
      "execution_count": 18,
      "outputs": [
        {
          "output_type": "stream",
          "name": "stdout",
          "text": [
            "Epoch 1/15\n",
            "514/514 [==============================] - 85s 156ms/step - loss: 0.7623 - val_loss: 0.8027\n",
            "Epoch 2/15\n",
            "514/514 [==============================] - 80s 155ms/step - loss: 0.6776 - val_loss: 0.7459\n",
            "Epoch 3/15\n",
            "514/514 [==============================] - 80s 155ms/step - loss: 0.6570 - val_loss: 0.7137\n",
            "Epoch 4/15\n",
            "514/514 [==============================] - 80s 155ms/step - loss: 0.6440 - val_loss: 0.6910\n",
            "Epoch 5/15\n",
            "514/514 [==============================] - 80s 156ms/step - loss: 0.6350 - val_loss: 0.6749\n",
            "Epoch 6/15\n",
            "514/514 [==============================] - 83s 161ms/step - loss: 0.6288 - val_loss: 0.6651\n",
            "Epoch 7/15\n",
            "514/514 [==============================] - 81s 157ms/step - loss: 0.6249 - val_loss: 0.6493\n",
            "Epoch 8/15\n",
            "514/514 [==============================] - 81s 158ms/step - loss: 0.6199 - val_loss: 0.6488\n",
            "Epoch 9/15\n",
            "514/514 [==============================] - 80s 156ms/step - loss: 0.6172 - val_loss: 0.6334\n",
            "Epoch 10/15\n",
            "514/514 [==============================] - 81s 157ms/step - loss: 0.6148 - val_loss: 0.6245\n",
            "Epoch 11/15\n",
            "514/514 [==============================] - 81s 158ms/step - loss: 0.6127 - val_loss: 0.6180\n",
            "Epoch 12/15\n",
            "514/514 [==============================] - 79s 154ms/step - loss: 0.6105 - val_loss: 0.6167\n",
            "Epoch 13/15\n",
            "514/514 [==============================] - 80s 155ms/step - loss: 0.6089 - val_loss: 0.6170\n",
            "Epoch 14/15\n",
            "514/514 [==============================] - 79s 154ms/step - loss: 0.6071 - val_loss: 0.6135\n",
            "Epoch 15/15\n",
            "514/514 [==============================] - 81s 157ms/step - loss: 0.6062 - val_loss: 0.6092\n"
          ]
        }
      ]
    },
    {
      "cell_type": "code",
      "metadata": {
        "colab": {
          "base_uri": "https://localhost:8080/",
          "height": 283
        },
        "id": "jEgWNAsNjJ9Q",
        "outputId": "109f4d44-f3c2-4b86-e161-e9b5225279c6"
      },
      "source": [
        "plt.plot(history3.history['loss'])\n",
        "plt.plot(history3.history['val_loss'])"
      ],
      "execution_count": 19,
      "outputs": [
        {
          "output_type": "execute_result",
          "data": {
            "text/plain": [
              "[<matplotlib.lines.Line2D at 0x7f79a3125a90>]"
            ]
          },
          "metadata": {},
          "execution_count": 19
        },
        {
          "output_type": "display_data",
          "data": {
            "image/png": "[encoded data removed]",
            "text/plain": [
              "<Figure size 432x288 with 1 Axes>"
            ]
          },
          "metadata": {
            "needs_background": "light"
          }
        }
      ]
    },
    {
      "cell_type": "markdown",
      "metadata": {
        "id": "J6HmNF_25_ou"
      },
      "source": [
        "Can a three LSTM layers create any difference?!\n",
        "\n",
        "With our loss and loss validation curves, there doesnt seem to be as an apparent change, howeverm it seems that our predicted and actual graph below has improved, where the predicited line is following the actualy curve much more closely than model one or model two. However, the predicted does not follow the same magnitude as the actual values."
      ]
    },
    {
      "cell_type": "code",
      "metadata": {
        "colab": {
          "base_uri": "https://localhost:8080/",
          "height": 283
        },
        "id": "9Tb_thM9jMm4",
        "outputId": "dbc115b3-df16-4cb6-823a-4b209260b270"
      },
      "source": [
        "predicted_x = model3.predict(x_test[:250])\n",
        "plt.plot(predicted_x*scale_range+scale_min)\n",
        "plt.plot(y_test[:250].reshape(-1,1)*scale_range+scale_min)"
      ],
      "execution_count": 20,
      "outputs": [
        {
          "output_type": "execute_result",
          "data": {
            "text/plain": [
              "[<matplotlib.lines.Line2D at 0x7f79a2dd5a10>]"
            ]
          },
          "metadata": {},
          "execution_count": 20
        },
        {
          "output_type": "display_data",
          "data": {
            "image/png": "[encoded data removed]",
            "text/plain": [
              "<Figure size 432x288 with 1 Axes>"
            ]
          },
          "metadata": {
            "needs_background": "light"
          }
        }
      ]
    },
    {
      "cell_type": "markdown",
      "metadata": {
        "id": "-nnzs3v8Lrvl"
      },
      "source": [
        "---\n",
        "# Summery"
      ]
    },
    {
      "cell_type": "markdown",
      "metadata": {
        "id": "aUDxbVu_B5uX"
      },
      "source": [
        "Initially it seemed that a single LSTM layer was sufficient, though, the predicted results are too smooth and dont follow the actual results as well as model three. However, all models come short when reproducing the magnitude of the prediction with the actual results. This is possibly due to the loss being relativly high (especially with model two). If it wasnt for this, then model three would be perfect, however, I feeel that there is scope of improvement in reducing the loss of each model.\n",
        "\n",
        "It can be said though, that adding more complexity to the model does yeild better prediciton, but this does add to longer trining times, and to what degree will adding more comlexity leade to over-complexity.\n",
        "\n",
        "\n",
        "It would then be best suggested to stick to model one, though, it would be of benefit to find out if optimising the LSTM nodes themselves can make a difference with the multi-layered nodes. For example, do we need less nodes as we increase the LSTM layers?! Or do we need to optimise our dropout layer or even experiment with a different loss/optimiser algorithm?!\n",
        "\n",
        "Considering my approach was just focused on average price, was there a different mean I could take from it, maybe involve some other measurement metric?! "
      ]
    }
  ]
}